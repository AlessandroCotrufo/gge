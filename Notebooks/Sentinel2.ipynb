{
 "cells": [
  {
   "cell_type": "code",
   "execution_count": 1,
   "metadata": {},
   "outputs": [],
   "source": [
    "import gge\n",
    "from gge import sensors"
   ]
  },
  {
   "cell_type": "code",
   "execution_count": 2,
   "metadata": {},
   "outputs": [],
   "source": [
    "area = (12.1, 55.60, 12.2, 55.7)  # Define the area\n",
    "\n",
    "area = \"/Users/kaaso/Documents/phd/coding/gge/data/location/bunaeset/POLYGON.shp\""
   ]
  },
  {
   "cell_type": "code",
   "execution_count": 3,
   "metadata": {},
   "outputs": [
    {
     "name": "stderr",
     "output_type": "stream",
     "text": [
      "\u001b[38;21m2024-07-01 13:08:25,737 - root - INFO - Initializing Earth Engine... (SatelliteData.py:23)\u001b[0m\n",
      "\u001b[38;21m2024-07-01 13:08:27,742 - root - INFO - Earth Engine initialized. (SatelliteData.py:29)\u001b[0m\n",
      "\u001b[38;21m2024-07-01 13:08:27,855 - root - INFO - CRS is EPSG:4326 (with The GeoSeries already has a CRS which is not equal to the passed CRS. Specify 'allow_override=True' to allow replacing the existing CRS without doing any transformation. If you actually want to transform the geometries, use 'GeoSeries.to_crs' instead.) (SatelliteData.py:71)\u001b[0m\n",
      "\u001b[33;21m2024-07-01 13:10:53,618 - googleapiclient.http - WARNING - Sleeping 0.44 seconds before retry 1 of 5 for request: POST https://earthengine.googleapis.com/v1/projects/earthengine-legacy/value:compute?prettyPrint=false&alt=json, after 502 (http.py:177)\u001b[0m\n"
     ]
    }
   ],
   "source": [
    "# Create a Landsat instance and use it\n",
    "sentinel2 = sensors.Sentinel2(area, ('2024-05-01', '2024-06-01') )\n",
    "sentinel2.download_data()\n"
   ]
  },
  {
   "cell_type": "code",
   "execution_count": null,
   "metadata": {},
   "outputs": [],
   "source": [
    "len(sentinel2)"
   ]
  },
  {
   "cell_type": "code",
   "execution_count": null,
   "metadata": {},
   "outputs": [],
   "source": [
    "sentinel2.item_type = \"QA60\""
   ]
  },
  {
   "cell_type": "code",
   "execution_count": null,
   "metadata": {},
   "outputs": [],
   "source": [
    "im, me = sentinel2[0]"
   ]
  },
  {
   "cell_type": "code",
   "execution_count": null,
   "metadata": {},
   "outputs": [],
   "source": [
    "import matplotlib.pyplot as plt"
   ]
  },
  {
   "cell_type": "code",
   "execution_count": null,
   "metadata": {},
   "outputs": [],
   "source": [
    "plt.imshow(im)\n",
    "plt.colorbar()"
   ]
  },
  {
   "cell_type": "code",
   "execution_count": null,
   "metadata": {},
   "outputs": [],
   "source": []
  }
 ],
 "metadata": {
  "kernelspec": {
   "display_name": "gge_test",
   "language": "python",
   "name": "python3"
  },
  "language_info": {
   "codemirror_mode": {
    "name": "ipython",
    "version": 3
   },
   "file_extension": ".py",
   "mimetype": "text/x-python",
   "name": "python",
   "nbconvert_exporter": "python",
   "pygments_lexer": "ipython3",
   "version": "3.10.14"
  }
 },
 "nbformat": 4,
 "nbformat_minor": 2
}
