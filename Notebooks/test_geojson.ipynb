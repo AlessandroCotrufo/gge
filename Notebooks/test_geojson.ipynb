{
 "cells": [
  {
   "cell_type": "code",
   "execution_count": 1,
   "metadata": {},
   "outputs": [],
   "source": [
    "import gge\n",
    "from gge import sensors"
   ]
  },
  {
   "cell_type": "code",
   "execution_count": 2,
   "metadata": {},
   "outputs": [],
   "source": [
    "\n",
    "\n",
    "area = \"/Users/kaaso/Documents/phd/coding/gge/data/location/glecher.geojson\""
   ]
  },
  {
   "cell_type": "code",
   "execution_count": 3,
   "metadata": {},
   "outputs": [
    {
     "name": "stderr",
     "output_type": "stream",
     "text": [
      "\u001b[38;21m2024-07-01 13:09:31,579 - root - INFO - Initializing Earth Engine... (SatelliteData.py:23)\u001b[0m\n",
      "\u001b[38;21m2024-07-01 13:09:35,646 - root - INFO - Earth Engine initialized. (SatelliteData.py:29)\u001b[0m\n"
     ]
    }
   ],
   "source": [
    "# Create a Landsat instance and use it\n",
    "sentinel2 = sensors.Sentinel2(area, ('2024-05-01', '2024-06-01') )"
   ]
  },
  {
   "cell_type": "code",
   "execution_count": 4,
   "metadata": {},
   "outputs": [],
   "source": [
    "sentinel2.reduction_scale = 1000"
   ]
  },
  {
   "cell_type": "code",
   "execution_count": 5,
   "metadata": {},
   "outputs": [
    {
     "name": "stderr",
     "output_type": "stream",
     "text": [
      "\u001b[31;21m2024-07-01 13:09:38,982 - root - ERROR - Error converting image 20240503T161829_20240503T161828_T27XWH: \n",
      "Use Reducer: False\n",
      "Error: Image.sampleRectangle: Too many pixels in sample; must be <= 262144. Got 6092415. (sentinel2.py:53)\u001b[0m\n",
      "\u001b[38;21m2024-07-01 13:09:38,983 - root - INFO - Trying to change the reducer function and scale. (sentinel2.py:55)\u001b[0m\n",
      "\u001b[33;21m2024-07-01 13:10:36,405 - googleapiclient.http - WARNING - Sleeping 0.71 seconds before retry 1 of 5 for request: POST https://earthengine.googleapis.com/v1/projects/earthengine-legacy/value:compute?prettyPrint=false&alt=json, after 502 (http.py:177)\u001b[0m\n"
     ]
    }
   ],
   "source": [
    "\n",
    "sentinel2.download_data()\n"
   ]
  },
  {
   "cell_type": "code",
   "execution_count": null,
   "metadata": {},
   "outputs": [],
   "source": []
  }
 ],
 "metadata": {
  "kernelspec": {
   "display_name": "gge_test",
   "language": "python",
   "name": "python3"
  },
  "language_info": {
   "codemirror_mode": {
    "name": "ipython",
    "version": 3
   },
   "file_extension": ".py",
   "mimetype": "text/x-python",
   "name": "python",
   "nbconvert_exporter": "python",
   "pygments_lexer": "ipython3",
   "version": "3.10.14"
  }
 },
 "nbformat": 4,
 "nbformat_minor": 2
}
